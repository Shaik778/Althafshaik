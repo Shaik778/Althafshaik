{
 "cells": [
  {
   "cell_type": "markdown",
   "metadata": {},
   "source": [
    "# Headings\n",
    "## Heading1\n",
    "### Heading2\n",
    "#### Heading3\n",
    "# Bold\n",
    "**Welcome**\n",
    "\n",
    "# Italic\n",
    "\n",
    "*pythonWorkshop*\n",
    "\n",
    "\n",
    "# Both Bold & Italic\n",
    "\n",
    "***Hello***"
   ]
  },
  {
   "cell_type": "markdown",
   "metadata": {},
   "source": [
    "# Links\n",
    "\n",
    "[Google](https:\\\\www.google.com"
   ]
  },
  {
   "cell_type": "markdown",
   "metadata": {},
   "source": [
    "# Bullet Points\n",
    "\n",
    "+ programming\n",
    "+ web"
   ]
  },
  {
   "cell_type": "markdown",
   "metadata": {},
   "source": [
    "# Bullet Points\n",
    "\n",
    "+ programming\n",
    "    + C\n",
    "    - Java\n",
    "    * Python\n",
    "- Web\n",
    "    + Html\n",
    "    -CSS\n",
    "\n",
    "* Socialwebsites\n",
    "    + Facebook\n",
    "    +Twitter\n",
    "    + Instagram"
   ]
  },
  {
   "cell_type": "markdown",
   "metadata": {},
   "source": [
    "# Order list\n",
    "\n",
    "\n",
    "1. Bootstrap\n",
    "\n",
    "100. jquery\n",
    "\n",
    "300. Ajay"
   ]
  },
  {
   "cell_type": "markdown",
   "metadata": {},
   "source": [
    "# unorder list\n",
    "\n",
    "1. Django\n",
    "\n",
    "+. Flask\n",
    "\n",
    "3. Bottle\n",
    "\n",
    "\n",
    "- cherrypy"
   ]
  },
  {
   "cell_type": "markdown",
   "metadata": {},
   "source": [
    "# Introduction To Python\n",
    "\n",
    "# History of Python\n",
    "\n",
    "# Variable Declaration\n",
    "\n",
    "# Keywords or Reserved words\n",
    "\n",
    "# Operators in Python\n",
    "\n",
    "# Comments in Python\n",
    "\n",
    "# Control flow statements"
   ]
  },
  {
   "cell_type": "markdown",
   "metadata": {},
   "source": [
    "# Introduction To Python\n",
    "\n",
    "    + High level\n",
    "    + Object oriented Programming\n",
    "    + Interpreted\n",
    "    + Dynamic\n",
    "    + Multipurpose"
   ]
  },
  {
   "cell_type": "code",
   "execution_count": 4,
   "metadata": {},
   "outputs": [
    {
     "data": {
      "text/plain": [
       "float"
      ]
     },
     "execution_count": 4,
     "metadata": {},
     "output_type": "execute_result"
    }
   ],
   "source": [
    "a=10\n",
    "b= 10.0\n",
    "type(b)"
   ]
  },
  {
   "cell_type": "markdown",
   "metadata": {},
   "source": [
    " # Keywords or Reserved words\n",
    " import keyword\n",
    " dir(keyword)"
   ]
  },
  {
   "cell_type": "code",
   "execution_count": 1,
   "metadata": {},
   "outputs": [
    {
     "data": {
      "text/plain": [
       "['__all__',\n",
       " '__builtins__',\n",
       " '__cached__',\n",
       " '__doc__',\n",
       " '__file__',\n",
       " '__loader__',\n",
       " '__name__',\n",
       " '__package__',\n",
       " '__spec__',\n",
       " 'iskeyword',\n",
       " 'kwlist']"
      ]
     },
     "execution_count": 1,
     "metadata": {},
     "output_type": "execute_result"
    }
   ],
   "source": [
    " # Keywords or Reserved words\n",
    "import keyword\n",
    "dir(keyword)\n",
    " "
   ]
  },
  {
   "cell_type": "code",
   "execution_count": 3,
   "metadata": {},
   "outputs": [
    {
     "ename": "SyntaxError",
     "evalue": "invalid syntax (<ipython-input-3-354baabec331>, line 3)",
     "output_type": "error",
     "traceback": [
      "\u001b[1;36m  File \u001b[1;32m\"<ipython-input-3-354baabec331>\"\u001b[1;36m, line \u001b[1;32m3\u001b[0m\n\u001b[1;33m    print(1a=20)\u001b[0m\n\u001b[1;37m           ^\u001b[0m\n\u001b[1;31mSyntaxError\u001b[0m\u001b[1;31m:\u001b[0m invalid syntax\n"
     ]
    }
   ],
   "source": [
    "# Variable Declariation\n",
    "a=10\n",
    "1b=100\n",
    "b1=100\n"
   ]
  },
  {
   "cell_type": "code",
   "execution_count": 4,
   "metadata": {},
   "outputs": [
    {
     "name": "stdout",
     "output_type": "stream",
     "text": [
      "10\n",
      "10\n",
      "10\n",
      "10\n"
     ]
    }
   ],
   "source": [
    "# How to store single value in multiple variables\n",
    "\n",
    "a=b=c=d=10\n",
    "print(a)\n",
    "print(b)\n",
    "print(c)\n",
    "print(d)"
   ]
  },
  {
   "cell_type": "code",
   "execution_count": 5,
   "metadata": {},
   "outputs": [
    {
     "name": "stdout",
     "output_type": "stream",
     "text": [
      "10\n",
      "20\n",
      "30\n",
      "40\n"
     ]
    }
   ],
   "source": [
    "# How to store Multiple value in multiple variables\n",
    "\n",
    "a,b,c,d=10,20,30,40\n",
    "print(a)\n",
    "print(b)\n",
    "print(c)\n",
    "print(d)"
   ]
  },
  {
   "cell_type": "code",
   "execution_count": null,
   "metadata": {},
   "outputs": [],
   "source": [
    "# operators \n",
    "1. Arthematic Operator(+,-,*,/,%,//,**)\n",
    "2. Relational or Comparision Operator (<,>,<=,>=,==,!=)"
   ]
  }
 ],
 "metadata": {
  "kernelspec": {
   "display_name": "Python 3",
   "language": "python",
   "name": "python3"
  },
  "language_info": {
   "codemirror_mode": {
    "name": "ipython",
    "version": 3
   },
   "file_extension": ".py",
   "mimetype": "text/x-python",
   "name": "python",
   "nbconvert_exporter": "python",
   "pygments_lexer": "ipython3",
   "version": "3.8.5"
  }
 },
 "nbformat": 4,
 "nbformat_minor": 4
}
