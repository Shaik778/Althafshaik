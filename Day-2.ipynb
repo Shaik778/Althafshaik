{
 "cells": [
  {
   "cell_type": "markdown",
   "metadata": {},
   "source": [
    "# Today Topics\n",
    "\n",
    "+Execution of commands in python shells\n",
    "-Data Types\n",
    "    + int\n",
    "    + float\n",
    "    + boolean\n",
    "    + complex\n",
    "    + str\n",
    "    \n",
    "    \n",
    " + I/p And o/p\n",
    " \n",
    " + Program Execution in IDLE\n",
    " \n",
    " - Program Execution in Command Prompt\n",
    " \n",
    " + Git Hub Account Creation"
   ]
  },
  {
   "cell_type": "code",
   "execution_count": null,
   "metadata": {},
   "outputs": [],
   "source": []
  }
 ],
 "metadata": {
  "kernelspec": {
   "display_name": "Python 3",
   "language": "python",
   "name": "python3"
  },
  "language_info": {
   "codemirror_mode": {
    "name": "ipython",
    "version": 3
   },
   "file_extension": ".py",
   "mimetype": "text/x-python",
   "name": "python",
   "nbconvert_exporter": "python",
   "pygments_lexer": "ipython3",
   "version": "3.8.5"
  }
 },
 "nbformat": 4,
 "nbformat_minor": 4
}
